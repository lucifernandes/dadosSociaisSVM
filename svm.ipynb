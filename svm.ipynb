{
  "nbformat": 4,
  "nbformat_minor": 0,
  "metadata": {
    "colab": {
      "name": "svm",
      "provenance": [],
      "collapsed_sections": [
        "DJEXegGBs1aw",
        "NBXKWk_oweED",
        "Krcs-gH9woRt",
        "OpD7yoou3ADO",
        "Xs_NJyW-TDge"
      ],
      "mount_file_id": "10ykGX7fSIx0yV-bRQn7X5r5lrRg4i5bz",
      "authorship_tag": "ABX9TyPCZ1RQnV3nu221JfTzGLbN",
      "include_colab_link": true
    },
    "kernelspec": {
      "name": "python3",
      "display_name": "Python 3"
    }
  },
  "cells": [
    {
      "cell_type": "markdown",
      "metadata": {
        "id": "view-in-github",
        "colab_type": "text"
      },
      "source": [
        "<a href=\"https://colab.research.google.com/github/lucifernandes/dadosSociaisSVM/blob/master/svm.ipynb\" target=\"_parent\"><img src=\"https://colab.research.google.com/assets/colab-badge.svg\" alt=\"Open In Colab\"/></a>"
      ]
    },
    {
      "cell_type": "markdown",
      "metadata": {
        "id": "AxyU-cz6bSJ7",
        "colab_type": "text"
      },
      "source": [
        "#Pré processamento"
      ]
    },
    {
      "cell_type": "markdown",
      "metadata": {
        "id": "08b4tGhybptZ",
        "colab_type": "text"
      },
      "source": [
        "##Dados"
      ]
    },
    {
      "cell_type": "code",
      "metadata": {
        "id": "AF4sSmSeawaL",
        "colab_type": "code",
        "colab": {}
      },
      "source": [
        "import pandas as pd\n",
        "base = pd.read_csv('/content/drive/My Drive/Bases/base_v01.csv', sep=',', decimal=',')\n",
        "base = base.dropna(how=\"any\") \n",
        "base = base.reset_index(drop=True)\n",
        "base.head()"
      ],
      "execution_count": null,
      "outputs": []
    },
    {
      "cell_type": "code",
      "metadata": {
        "id": "aniIpMRNbu_B",
        "colab_type": "code",
        "colab": {}
      },
      "source": [
        "base['renda'] = (base['renda']).astype(int)\n",
        "\n",
        "dadosSocio = base.loc[:, ['idade', 'sM', 'sF', 'corBr',\t'corPr','corPa','corAm','corIn']]\n",
        "cbc = base.loc[:, ['carro','empreg','maqlav','dvd','banhe','gelad','freezer','comput',\n",
        "                          'lavlou','microon','motocic','secadora','agua','rua','escola','renda']]\n",
        "bloco1 = base.loc[:,['p41aa','p41ab','p41ad','p41ae','p41af','p41ag','p41ah','p41ai',\n",
        "                     'p41aj','p41ak','p41al','p41am','p41an','p41ao','p41ap']]\n",
        "bloco2 = base.loc[:,['p42a','p42b','p42d','p42e','p42f','p42g','p42h','p42i','p42j','p42k',\n",
        "                     'p42l','p42m','p42n','p42o','p42p']]\n",
        "bloco3 = base.loc[:,['p43a','p43b','p43d','p43f','p43g','p43h','p43i','p43j','p43k','p43l',\n",
        "                     'p43m','p43n','p43o','p43p']]\n",
        "bloco4 = base.loc[:, ['INV1p45a','INV1p45b','INV1p45c','INV1p45d','INV1p45e','INV1p45f',\n",
        "                      'INV1p45g','INV1p45h','INV1p45i','INV1p45j','INV1p45k','INV1p45l',\n",
        "                      'INV1p45m','INV1p45n','INV1p45o','INV1p45p','INV1p45q']].astype(int) \n",
        "\n",
        "def binarizar(entrada):\n",
        "  classe = pd.DataFrame({})\n",
        "  classe['classe'] = entrada.mean(axis=1)\n",
        "  print(classe)\n",
        "  mediana = classe['classe'].median()\n",
        "  #print('Mediana: ', mediana)\n",
        "  #print(classe)\n",
        "  for i in range(len(classe)):\n",
        "    if classe.iloc[i,0] < mediana:\n",
        "      classe.iloc[i,0] = 0\n",
        "    else:\n",
        "      classe.iloc[i,0] = 1\n",
        "  classe['classe'] = (classe['classe']).astype(int)\n",
        "  return classe\n",
        "\n",
        "from sklearn.preprocessing import MinMaxScaler\n",
        "from sklearn.preprocessing import StandardScaler\n",
        "def normalizar(entrada):\n",
        "  scaler = MinMaxScaler()\n",
        "  previsores = scaler.fit_transform(entrada)\n",
        "  return previsores\n",
        "def padronizar(entrada):\n",
        "  scaler = StandardScaler() #Padronização\n",
        "  previsores = scaler.fit_transform(entrada)\n",
        "  return previsores\n",
        "\n",
        "bloco4.head()\n",
        "#auto['Indbloco1'] = (auto['Indbloco1']).astype(int)\n",
        "#base['IndAuto'] = A\n",
        "#base['IndAuto'] = (base['IndAuto']).astype(int)"
      ],
      "execution_count": null,
      "outputs": []
    },
    {
      "cell_type": "markdown",
      "metadata": {
        "id": "DJEXegGBs1aw",
        "colab_type": "text"
      },
      "source": [
        "#Índice Autoritarismo"
      ]
    },
    {
      "cell_type": "code",
      "metadata": {
        "id": "4rBAhWoxszh2",
        "colab_type": "code",
        "colab": {
          "base_uri": "https://localhost:8080/",
          "height": 255
        },
        "outputId": "dd40654d-6a2a-41b5-f7ef-9ceeaeb40059"
      },
      "source": [
        "indAuto = pd.DataFrame({})\n",
        "indAuto = pd.concat([dadosSocio,cbc,bloco1,bloco2,bloco3], axis=1)\n",
        "\n",
        "cAuto = binarizar(bloco4)\n",
        "cAuto = cAuto.values\n",
        "indAuto = indAuto.values\n",
        "\n",
        "#indAuto = normalizar(indAuto)\n",
        "indAuto = padronizar(indAuto)"
      ],
      "execution_count": null,
      "outputs": [
        {
          "output_type": "stream",
          "text": [
            "        classe\n",
            "0     5.000000\n",
            "1     4.529412\n",
            "2     5.705882\n",
            "3     5.705882\n",
            "4     5.529412\n",
            "...        ...\n",
            "1752  1.058824\n",
            "1753  1.529412\n",
            "1754  1.058824\n",
            "1755  2.470588\n",
            "1756  1.529412\n",
            "\n",
            "[1757 rows x 1 columns]\n"
          ],
          "name": "stdout"
        }
      ]
    },
    {
      "cell_type": "markdown",
      "metadata": {
        "id": "d3qPuCYrs_fo",
        "colab_type": "text"
      },
      "source": [
        "#Índice Medo do Crime (bloco 1)"
      ]
    },
    {
      "cell_type": "code",
      "metadata": {
        "id": "9mwRhZxjwdNH",
        "colab_type": "code",
        "colab": {}
      },
      "source": [
        "indb1 = pd.DataFrame({})\n",
        "indb1 = pd.concat([dadosSocio,cbc,bloco2,bloco3,bloco4], axis=1)\n",
        "\n",
        "cb1 = binarizar(bloco1)\n",
        "\n",
        "#indb1 = normalizar(indb1)\n",
        "#indb1 = padronizar(indb1)\n"
      ],
      "execution_count": null,
      "outputs": []
    },
    {
      "cell_type": "markdown",
      "metadata": {
        "id": "NBXKWk_oweED",
        "colab_type": "text"
      },
      "source": [
        "#Índice Chances de ocorrência de vitimização por crime (bloco 2)"
      ]
    },
    {
      "cell_type": "code",
      "metadata": {
        "id": "GAkow6p4wmly",
        "colab_type": "code",
        "colab": {
          "base_uri": "https://localhost:8080/",
          "height": 255
        },
        "outputId": "6abb498a-381b-45cc-e101-763ed3e1c71a"
      },
      "source": [
        "indb2 = pd.DataFrame({})\n",
        "indb2 = pd.concat([dadosSocio,cbc,bloco1,bloco3,bloco4], axis=1)\n",
        "\n",
        "cb2 = binarizar(bloco2)\n",
        "\n",
        "#indb2 = normalizar(indb2)\n",
        "indb2 = padronizar(indb2)\n"
      ],
      "execution_count": null,
      "outputs": [
        {
          "output_type": "stream",
          "text": [
            "        classe\n",
            "0     8.066667\n",
            "1     2.866667\n",
            "2     5.333333\n",
            "3     1.933333\n",
            "4     2.266667\n",
            "...        ...\n",
            "1752  7.400000\n",
            "1753  6.600000\n",
            "1754  6.533333\n",
            "1755  2.200000\n",
            "1756  4.333333\n",
            "\n",
            "[1757 rows x 1 columns]\n"
          ],
          "name": "stdout"
        }
      ]
    },
    {
      "cell_type": "markdown",
      "metadata": {
        "id": "Krcs-gH9woRt",
        "colab_type": "text"
      },
      "source": [
        "#Índice Vitimização do crime (bloco 3)"
      ]
    },
    {
      "cell_type": "code",
      "metadata": {
        "id": "r4cKjyszwyj-",
        "colab_type": "code",
        "colab": {
          "base_uri": "https://localhost:8080/",
          "height": 255
        },
        "outputId": "44844592-4209-4bc4-840a-b071234b2cb9"
      },
      "source": [
        "indb3 = pd.DataFrame({})\n",
        "indb3 = pd.concat([dadosSocio,cbc,bloco1,bloco2,bloco4], axis=1)\n",
        "\n",
        "cb3 = binarizar(bloco3)\n",
        "\n",
        "#indb3 = normalizar(indb3)\n",
        "#indb3 = padronizar(indb3)\n"
      ],
      "execution_count": null,
      "outputs": [
        {
          "output_type": "stream",
          "text": [
            "        classe\n",
            "0     0.000000\n",
            "1     0.071429\n",
            "2     0.000000\n",
            "3     0.000000\n",
            "4     0.000000\n",
            "...        ...\n",
            "1752  0.142857\n",
            "1753  0.000000\n",
            "1754  0.071429\n",
            "1755  0.142857\n",
            "1756  0.000000\n",
            "\n",
            "[1757 rows x 1 columns]\n"
          ],
          "name": "stdout"
        }
      ]
    },
    {
      "cell_type": "markdown",
      "metadata": {
        "id": "OpD7yoou3ADO",
        "colab_type": "text"
      },
      "source": [
        "#Índice Critério Brasil de Classes"
      ]
    },
    {
      "cell_type": "code",
      "metadata": {
        "id": "teDbgBXO3IDR",
        "colab_type": "code",
        "colab": {}
      },
      "source": [
        "indcbc = pd.DataFrame({})\n",
        "indcbc = pd.concat([dadosSocio,bloco1,bloco2,bloco3,bloco4], axis=1)\n",
        "\n",
        "ccbc = binarizar(cbc)\n",
        "\n",
        "#indcbc = normalizar(indcbc)\n",
        "indcbc = padronizar(indcbc)"
      ],
      "execution_count": null,
      "outputs": []
    },
    {
      "cell_type": "markdown",
      "metadata": {
        "id": "Xs_NJyW-TDge",
        "colab_type": "text"
      },
      "source": [
        "##Tentativa com threshold=3.5"
      ]
    },
    {
      "cell_type": "code",
      "metadata": {
        "id": "-ZhHgWZLd6q1",
        "colab_type": "code",
        "colab": {}
      },
      "source": [
        "c0 = pd.DataFrame({}, columns=['cbc','bloco1','bloco2','bloco3','idade','sM','sF','corBr','corPr','corPa','corAm','corIn','classe'])\n",
        "c1 = pd.DataFrame({}, columns=['cbc','bloco1','bloco2','bloco3','idade','sM','sF','corBr','corPr','corPa','corAm','corIn','classe'])\n",
        "\n",
        "for i in range(len(prev)):\n",
        "  if prev.loc[i,'classe'] == 0:\n",
        "    c0.loc[i] = prev.iloc[i,:]\n",
        "  else:\n",
        "    c1.loc[i] = prev.iloc[i,:]\n",
        "  \n",
        "c0 = c0.reset_index(drop=True)\n",
        "c1 = c1.reset_index(drop=True)  \n",
        "\n",
        "from random import sample\n",
        "import numpy as np\n",
        "from array import array \n",
        "r0 = np.arange(1581)       \n",
        "r = sample(list(r0),176)\n",
        "\n",
        "\n",
        "\n",
        "c1n = pd.DataFrame({}, columns=['cbc','bloco1','bloco2','bloco3','idade','sM','sF','corBr','corPr','corPa','corAm','corIn','classe'])\n",
        "for i in r:\n",
        "  c1n.loc[i] = c1.iloc[i,:]\n",
        "c1n = c1n.reset_index(drop=True)  \n",
        "\n",
        "data = pd.concat([c0, c1n])     #Concatenação dos sinais da Classe 1 com os sinais da Classe 2\n",
        "data.reset_index(drop=True,inplace=True) #Resetando os índices\n",
        "\n",
        "\n",
        "clas = data.loc[:,'classe']\n",
        "data = data.drop(columns=['classe'])\n",
        "\n",
        "clas.head(352)"
      ],
      "execution_count": null,
      "outputs": []
    },
    {
      "cell_type": "code",
      "metadata": {
        "id": "sMbqEHVBpZg4",
        "colab_type": "code",
        "colab": {}
      },
      "source": [
        "\n"
      ],
      "execution_count": null,
      "outputs": []
    },
    {
      "cell_type": "markdown",
      "metadata": {
        "id": "oCvwXkPDTL3m",
        "colab_type": "text"
      },
      "source": [
        "#Classificador"
      ]
    },
    {
      "cell_type": "code",
      "metadata": {
        "id": "MdZ72fYbvoXg",
        "colab_type": "code",
        "colab": {}
      },
      "source": [
        "from sklearn.svm import SVC\n",
        "from sklearn.metrics import confusion_matrix, accuracy_score\n",
        "from sklearn.model_selection import train_test_split\n",
        "\n",
        "resultados20 = []\n",
        "for i in range(20):\n",
        "  \n",
        "  previsores_treinamento, previsores_teste, classe_treinamento, classe_teste = train_test_split(indb3, cb3, test_size=0.1, random_state=i)\n",
        "\n",
        "  #‘linear’, ‘poly’, ‘rbf’, ‘sigmoid’\n",
        "  classificador = SVC(kernel='rbf', random_state = i, C=20)\n",
        "\n",
        "  classificador.fit(previsores_treinamento, classe_treinamento)\n",
        "  previsoes = classificador.predict(previsores_teste)\n",
        "\n",
        "  precisao = accuracy_score(classe_teste, previsoes)\n",
        "  matriz = confusion_matrix(classe_teste, previsoes)\n",
        "\n",
        "  resultados20.append(precisao)\n",
        "\n",
        "for i in range(20):\n",
        "  print(str(resultados20[i]).replace('.', ','))"
      ],
      "execution_count": null,
      "outputs": []
    },
    {
      "cell_type": "code",
      "metadata": {
        "id": "TImWDzh36CgL",
        "colab_type": "code",
        "colab": {
          "base_uri": "https://localhost:8080/",
          "height": 68
        },
        "outputId": "135ce153-9da5-498f-90b5-091525f8a3df"
      },
      "source": [
        "cAuto['classe'].value_counts()"
      ],
      "execution_count": null,
      "outputs": [
        {
          "output_type": "execute_result",
          "data": {
            "text/plain": [
              "1    882\n",
              "0    875\n",
              "Name: classe, dtype: int64"
            ]
          },
          "metadata": {
            "tags": []
          },
          "execution_count": 8
        }
      ]
    }
  ]
}