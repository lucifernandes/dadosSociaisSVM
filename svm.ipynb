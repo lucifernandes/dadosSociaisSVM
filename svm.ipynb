{
  "nbformat": 4,
  "nbformat_minor": 0,
  "metadata": {
    "colab": {
      "name": "svm",
      "provenance": [],
      "toc_visible": true,
      "mount_file_id": "10ykGX7fSIx0yV-bRQn7X5r5lrRg4i5bz",
      "authorship_tag": "ABX9TyOWmH7u3mcktixv2vwxWjjI",
      "include_colab_link": true
    },
    "kernelspec": {
      "name": "python3",
      "display_name": "Python 3"
    }
  },
  "cells": [
    {
      "cell_type": "markdown",
      "metadata": {
        "id": "view-in-github",
        "colab_type": "text"
      },
      "source": [
        "<a href=\"https://colab.research.google.com/github/lucifernandes/dadosSociaisSVM/blob/master/svm.ipynb\" target=\"_parent\"><img src=\"https://colab.research.google.com/assets/colab-badge.svg\" alt=\"Open In Colab\"/></a>"
      ]
    },
    {
      "cell_type": "markdown",
      "metadata": {
        "id": "AxyU-cz6bSJ7",
        "colab_type": "text"
      },
      "source": [
        "#Pré processamento"
      ]
    },
    {
      "cell_type": "markdown",
      "metadata": {
        "id": "08b4tGhybptZ",
        "colab_type": "text"
      },
      "source": [
        "##Dados"
      ]
    },
    {
      "cell_type": "code",
      "metadata": {
        "id": "AF4sSmSeawaL",
        "colab_type": "code",
        "colab": {}
      },
      "source": [
        "import pandas as pd\n",
        "base = pd.read_csv('/content/drive/My Drive/Bases/base_v01.csv', sep=',', decimal=',')\n",
        "base = base.dropna(how=\"any\") \n",
        "base = base.reset_index(drop=True)\n",
        "base.head()"
      ],
      "execution_count": null,
      "outputs": []
    },
    {
      "cell_type": "code",
      "metadata": {
        "id": "aniIpMRNbu_B",
        "colab_type": "code",
        "colab": {
          "base_uri": "https://localhost:8080/",
          "height": 34
        },
        "outputId": "84ff8036-bdc7-4890-c65b-d20ea0d59c95"
      },
      "source": [
        "base['renda'] = (base['renda']).astype(int)\n",
        "\n",
        "dadosSocio = base.loc[:, ['idade', 'sM', 'sF', 'corBr',\t'corPr','corPa','corAm','corIn']]\n",
        "cbc = base.loc[:, ['carro','empreg','maqlav','dvd','banhe','gelad','freezer','comput',\n",
        "                          'lavlou','microon','motocic','secadora','agua','rua','escola','renda']]\n",
        "bloco1 = base.loc[:,['p41aa','p41ab','p41ad','p41ae','p41af','p41ag','p41ah','p41ai',\n",
        "                     'p41aj','p41ak','p41al','p41am','p41an','p41ao','p41ap']]\n",
        "bloco2 = base.loc[:,['p42a','p42b','p42d','p42e','p42f','p42g','p42h','p42i','p42j','p42k',\n",
        "                     'p42l','p42m','p42n','p42o','p42p']]\n",
        "bloco3 = base.loc[:,['p43a','p43b','p43d','p43f','p43g','p43h','p43i','p43j','p43k','p43l',\n",
        "                     'p43m','p43n','p43o','p43p']]\n",
        "#------------------------------- índice Autoritarismo ------------------------------------------------\n",
        "#Sentenças do 4º bloco do questionário\n",
        "bloco4 = base.loc[:, ['INV1p45a','INV1p45b','INV1p45c','INV1p45d','INV1p45e','INV1p45f',\n",
        "                      'INV1p45g','INV1p45h','INV1p45i','INV1p45j','INV1p45k','INV1p45l',\n",
        "                      'INV1p45m','INV1p45n','INV1p45o','INV1p45p','INV1p45q']]  \n",
        "#Adicionando à base a coluna 'IndAuto' com os valores dos índices de cada amostra                   \n",
        "#A = bloco4.mean(axis=1)\n",
        "#B = bloco1.mean(axis=1)\n",
        "#Cálculo do índice médio  \n",
        "mediana = bloco4.mean(axis=1).median()\n",
        "#mediana = bloco1.mean(axis=1).median()\n",
        "#Para valores abaixo ou igual a média, recebem valor 0. Para valores acima da média, recebem valor 1\n",
        "#A = A.values\n",
        "print(mediana)\n",
        "\n",
        "auto = pd.DataFrame({})\n",
        "auto['IndAuto'] = bloco4.mean(axis=1)\n",
        "#auto['Indbloco1'] = bloco1.mean(axis=1)\n",
        "\n",
        "for i in range(len(auto)):\n",
        "  if auto.iloc[i,0] < mediana:\n",
        "    auto.iloc[i,0] = 0\n",
        "  else:\n",
        "    auto.iloc[i,0] = 1\n",
        "\n",
        "auto['IndAuto'] = (auto['IndAuto']).astype(int)\n",
        "#auto['Indbloco1'] = (auto['Indbloco1']).astype(int)\n",
        "#base['IndAuto'] = A\n",
        "#base['IndAuto'] = (base['IndAuto']).astype(int)"
      ],
      "execution_count": null,
      "outputs": [
        {
          "output_type": "stream",
          "text": [
            "4.411764705882353\n"
          ],
          "name": "stdout"
        }
      ]
    },
    {
      "cell_type": "code",
      "metadata": {
        "id": "qYIqhgjTb3Wi",
        "colab_type": "code",
        "colab": {}
      },
      "source": [
        "prev = pd.DataFrame({})\n",
        "prev['cbc'] = cbc.sum(axis=1)\n",
        "prev['bloco1'] = bloco1.mean(axis=1)\n",
        "#prev['auto'] = bloco4.mean(axis=1)\n",
        "prev['bloco2'] = bloco2.mean(axis=1)\n",
        "prev['bloco3'] = bloco3.mean(axis=1)\n",
        "prev['idade'] = dadosSocio.loc[:,'idade']\n",
        "prev['sM'] = dadosSocio.loc[:,'sM']\n",
        "prev['sF'] = dadosSocio.loc[:,'sF']\n",
        "prev['corBr'] = dadosSocio.loc[:,'corBr']\n",
        "prev['corPr'] = dadosSocio.loc[:,'corPr']\n",
        "prev['corPa'] = dadosSocio.loc[:,'corPa']\n",
        "prev['corAm'] = dadosSocio.loc[:,'corAm']\n",
        "prev['corIn'] = dadosSocio.loc[:,'corIn']\n",
        "#prev['classe'] = auto\n",
        "\n",
        "classe = pd.DataFrame({})\n",
        "classe['classe'] = auto['IndAuto']\n",
        "\n",
        "#classe['classe'].value_counts()\n",
        "\n",
        "prev.head()"
      ],
      "execution_count": null,
      "outputs": []
    },
    {
      "cell_type": "markdown",
      "metadata": {
        "id": "Xs_NJyW-TDge",
        "colab_type": "text"
      },
      "source": [
        "##base2"
      ]
    },
    {
      "cell_type": "code",
      "metadata": {
        "id": "-ZhHgWZLd6q1",
        "colab_type": "code",
        "colab": {}
      },
      "source": [
        "c0 = pd.DataFrame({}, columns=['cbc','bloco1','bloco2','bloco3','idade','sM','sF','corBr','corPr','corPa','corAm','corIn','classe'])\n",
        "c1 = pd.DataFrame({}, columns=['cbc','bloco1','bloco2','bloco3','idade','sM','sF','corBr','corPr','corPa','corAm','corIn','classe'])\n",
        "\n",
        "for i in range(len(prev)):\n",
        "  if prev.loc[i,'classe'] == 0:\n",
        "    c0.loc[i] = prev.iloc[i,:]\n",
        "  else:\n",
        "    c1.loc[i] = prev.iloc[i,:]\n",
        "  \n",
        "c0 = c0.reset_index(drop=True)\n",
        "c1 = c1.reset_index(drop=True)  \n",
        "\n",
        "from random import sample\n",
        "import numpy as np\n",
        "from array import array \n",
        "r0 = np.arange(1581)       \n",
        "r = sample(list(r0),176)\n",
        "\n",
        "\n",
        "\n",
        "c1n = pd.DataFrame({}, columns=['cbc','bloco1','bloco2','bloco3','idade','sM','sF','corBr','corPr','corPa','corAm','corIn','classe'])\n",
        "for i in r:\n",
        "  c1n.loc[i] = c1.iloc[i,:]\n",
        "c1n = c1n.reset_index(drop=True)  \n",
        "\n",
        "data = pd.concat([c0, c1n])     #Concatenação dos sinais da Classe 1 com os sinais da Classe 2\n",
        "data.reset_index(drop=True,inplace=True) #Resetando os índices\n",
        "\n",
        "\n",
        "clas = data.loc[:,'classe']\n",
        "data = data.drop(columns=['classe'])\n",
        "\n",
        "clas.head(352)"
      ],
      "execution_count": null,
      "outputs": []
    },
    {
      "cell_type": "markdown",
      "metadata": {
        "id": "oCvwXkPDTL3m",
        "colab_type": "text"
      },
      "source": [
        "##classificador"
      ]
    },
    {
      "cell_type": "code",
      "metadata": {
        "id": "MdZ72fYbvoXg",
        "colab_type": "code",
        "colab": {
          "base_uri": "https://localhost:8080/",
          "height": 357
        },
        "outputId": "5172123b-0ad9-4c77-aa03-18805ab4eb8b"
      },
      "source": [
        "from sklearn.svm import SVC\n",
        "from sklearn.metrics import confusion_matrix, accuracy_score\n",
        "from sklearn.model_selection import train_test_split\n",
        "\n",
        "resultados20 = []\n",
        "for i in range(20):\n",
        "  \n",
        "  previsores_treinamento, previsores_teste, classe_treinamento, classe_teste = train_test_split(data, clas, test_size=0.10, random_state=i)\n",
        "      #print(previsores_teste)\n",
        "\n",
        "  classificador = SVC(kernel= 'rbf', random_state = i, C= 2.0)\n",
        "\n",
        "  classificador.fit(previsores_treinamento, classe_treinamento)\n",
        "  previsoes = classificador.predict(previsores_teste)\n",
        "\n",
        "  \n",
        "  precisao = accuracy_score(classe_teste, previsoes)\n",
        "  matriz = confusion_matrix(classe_teste, previsoes)\n",
        "    #print(precisao)\n",
        "    #print(previsoes)\n",
        "\n",
        "  resultados20.append(precisao)\n",
        "  #print(str(precisao).replace('.', ','))\n",
        "\n",
        "for i in range(20):\n",
        "  print(str(resultados20[i]).replace('.', ','))\n",
        "\n",
        "\n",
        "\n",
        "\n",
        "\n"
      ],
      "execution_count": null,
      "outputs": [
        {
          "output_type": "stream",
          "text": [
            "0,6388888888888888\n",
            "0,6944444444444444\n",
            "0,7222222222222222\n",
            "0,5555555555555556\n",
            "0,6111111111111112\n",
            "0,7777777777777778\n",
            "0,6111111111111112\n",
            "0,6666666666666666\n",
            "0,5277777777777778\n",
            "0,5\n",
            "0,6111111111111112\n",
            "0,5833333333333334\n",
            "0,5555555555555556\n",
            "0,6666666666666666\n",
            "0,5277777777777778\n",
            "0,6388888888888888\n",
            "0,6666666666666666\n",
            "0,5833333333333334\n",
            "0,6944444444444444\n",
            "0,6388888888888888\n"
          ],
          "name": "stdout"
        }
      ]
    }
  ]
}